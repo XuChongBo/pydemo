{
 "cells": [
  {
   "cell_type": "code",
   "execution_count": 3,
   "metadata": {
    "collapsed": false
   },
   "outputs": [
    {
     "name": "stdout",
     "output_type": "stream",
     "text": [
      "[31 17 59 39 60 57 23 52] [41  9 59 42 21 23  4 53]\n"
     ]
    }
   ],
   "source": [
    "import numpy as np\n",
    "import scipy.ndimage as ndimage \n",
    "\n",
    "x, y = (63*np.random.random((2, 8))).astype(np.int)\n",
    "print x,y"
   ]
  },
  {
   "cell_type": "code",
   "execution_count": 6,
   "metadata": {
    "collapsed": false
   },
   "outputs": [
    {
     "data": {
      "text/plain": [
       "array([[ 0,  1,  2,  3],\n",
       "       [ 4,  5,  6,  7],\n",
       "       [ 8,  9, 10, 11]])"
      ]
     },
     "execution_count": 6,
     "metadata": {},
     "output_type": "execute_result"
    }
   ],
   "source": [
    "a = np.arange(12).reshape(3,4)\n",
    "a"
   ]
  },
  {
   "cell_type": "code",
   "execution_count": 8,
   "metadata": {
    "collapsed": false
   },
   "outputs": [
    {
     "data": {
      "text/plain": [
       "array([[ 3,  8, 14, 17],\n",
       "       [27, 32, 38, 41],\n",
       "       [51, 56, 62, 65]])"
      ]
     },
     "execution_count": 8,
     "metadata": {},
     "output_type": "execute_result"
    }
   ],
   "source": [
    "\n",
    "ndimage.correlate1d(a, [1, 2, 3])   #the [1,2,3] are kernel weights"
   ]
  },
  {
   "cell_type": "code",
   "execution_count": 10,
   "metadata": {
    "collapsed": false
   },
   "outputs": [
    {
     "data": {
      "text/plain": [
       "array([[ 3,  8, 14, 17],\n",
       "       [27, 32, 38, 41],\n",
       "       [51, 56, 62, 65]])"
      ]
     },
     "execution_count": 10,
     "metadata": {},
     "output_type": "execute_result"
    }
   ],
   "source": [
    "def fnc(iline, oline):\n",
    "     oline[...] = iline[:-2] + 2 * iline[1:-1] + 3 * iline[2:]\n",
    "ndimage.generic_filter1d(a, fnc, 3)"
   ]
  },
  {
   "cell_type": "code",
   "execution_count": 12,
   "metadata": {
    "collapsed": false
   },
   "outputs": [
    {
     "name": "stdout",
     "output_type": "stream",
     "text": [
      "in [ 0.  0.  1.  2.  3.  3.]\n",
      "out [  3.   8.  14.  17.]\n",
      "in [ 4.  4.  5.  6.  7.  7.]\n",
      "out [ 27.  32.  38.  41.]\n",
      "in [  8.   8.   9.  10.  11.  11.]\n",
      "out [ 51.  56.  62.  65.]\n"
     ]
    },
    {
     "data": {
      "text/plain": [
       "array([[ 3,  8, 14, 17],\n",
       "       [27, 32, 38, 41],\n",
       "       [51, 56, 62, 65]])"
      ]
     },
     "execution_count": 12,
     "metadata": {},
     "output_type": "execute_result"
    }
   ],
   "source": [
    "def fnc(iline, oline):\n",
    "    print \"in\",iline\n",
    "    oline[...] = iline[:-2] + 2 * iline[1:-1] + 3 * iline[2:]\n",
    "    print \"out\",oline\n",
    "ndimage.generic_filter1d(a, fnc, 3)"
   ]
  }
 ],
 "metadata": {
  "kernelspec": {
   "display_name": "Python 2",
   "language": "python",
   "name": "python2"
  },
  "language_info": {
   "codemirror_mode": {
    "name": "ipython",
    "version": 2
   },
   "file_extension": ".py",
   "mimetype": "text/x-python",
   "name": "python",
   "nbconvert_exporter": "python",
   "pygments_lexer": "ipython2",
   "version": "2.7.6"
  }
 },
 "nbformat": 4,
 "nbformat_minor": 0
}
