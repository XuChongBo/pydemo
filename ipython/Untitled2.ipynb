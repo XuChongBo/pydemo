{
 "metadata": {
  "name": ""
 },
 "nbformat": 3,
 "nbformat_minor": 0,
 "worksheets": [
  {
   "cells": [
    {
     "cell_type": "code",
     "collapsed": false,
     "input": [
      "import datetime\n",
      "import traceback\n",
      "import subprocess\n",
      "import socket, fcntl, struct\n",
      "from IPython.display import Image\n",
      "from IPython.display import display\n",
      "from IPython.display import clear_output\n",
      "from fabric.api import *\n",
      "import time\n",
      "\n",
      "# env.hosts = ['180.150.190.52:666']   #\u524d\u53f0\u673a\n",
      "# env.user = \"xucb\"\n",
      "# env.password = '313845681@www'\n",
      "\n",
      "#\u76ee\u6807\u673a\u5668\u4e0a\u7684\u8fd0\u884c\u76ee\u5f55\n",
      "REMOTE_PATH = '/data/ocr/ocr_service/logs'\n",
      "\n",
      "records = {}\n",
      "\n",
      "while True:\n",
      "    clear_output()    \n",
      "    remote_filename = REMOTE_PATH+'/'+'ocr_20150902.log' \n",
      "    #local_filename  = LOCAL_PATH +'_logs/'+'audit_logSessionServer.txt' + '.'+env.host\n",
      "\n",
      "    remote_ret = run(\"\"\" tail  -n10 %s | grep -E 'Downloading http|Return result' \"\"\" % remote_filename)\n",
      "    lines =  remote_ret.split('\\n');\n",
      "    proid = ''\n",
      "    for line in lines:\n",
      "        items = line.split()\n",
      "        #print items        \n",
      "        if len(items)>=13 and items[11]==\"Downloading\":\n",
      "            process_id =  items[10]\n",
      "            img_url = items[12]            \n",
      "            #print img_url\n",
      "            if (process_id in records) and records[process_id] != img_url:\n",
      "                print process_id,\":\", \"Exception! does't complete it work.\"\n",
      "                display(Image(url=records[process_id]))            \n",
      "            records[process_id] = img_url\n",
      "            continue            \n",
      "            \n",
      "        if len(items)>=15 and items[12]==\"result:\":\n",
      "            process_id = items[10][:-1]\n",
      "            ocr_result = \"\".join(items[14:-1])\n",
      "            if (process_id in records) and records[process_id] == img_url:\n",
      "                print process_id,\":\", ocr_result\n",
      "                display(Image(url=img_url))\n",
      "            continue           \n",
      "        print \"processing:\", records    \n",
      "    print \"a\"\n",
      "    time.sleep(2)\n",
      "\n"
     ],
     "language": "python",
     "metadata": {},
     "outputs": [],
     "prompt_number": "*"
    },
    {
     "cell_type": "code",
     "collapsed": false,
     "input": [],
     "language": "python",
     "metadata": {},
     "outputs": []
    }
   ],
   "metadata": {}
  }
 ]
}