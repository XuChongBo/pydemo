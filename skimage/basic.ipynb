{
 "cells": [
  {
   "cell_type": "code",
   "execution_count": 3,
   "metadata": {
    "collapsed": false
   },
   "outputs": [
    {
     "name": "stdout",
     "output_type": "stream",
     "text": [
      "[[ 0.          0.          0.         ...,  0.          0.          0.        ]\n",
      " [ 0.          0.17208326  0.04307036 ...,  0.03683979  0.00765711  0.        ]\n",
      " [ 0.          0.06139791  0.02499519 ...,  0.084638    0.00490196  0.        ]\n",
      " ..., \n",
      " [ 0.          0.03114192  0.02949335 ...,  0.01669548  0.00588235  0.        ]\n",
      " [ 0.          0.04030354  0.0335059  ...,  0.00571662  0.00980392  0.        ]\n",
      " [ 0.          0.          0.         ...,  0.          0.          0.        ]]\n"
     ]
    }
   ],
   "source": [
    "from skimage import data, io, filters\n",
    "\n",
    "image = data.coins() # or any NumPy array!\n",
    "edges = filters.sobel(image)\n",
    "print edges\n",
    "io.imshow(edges)\n",
    "io.show()"
   ]
  },
  {
   "cell_type": "code",
   "execution_count": null,
   "metadata": {
    "collapsed": true
   },
   "outputs": [],
   "source": [
    "import numpy as np\n",
    "np.random"
   ]
  },
  {
   "cell_type": "code",
   "execution_count": null,
   "metadata": {
    "collapsed": true
   },
   "outputs": [],
   "source": [
    "        io.use_plugin('pil')\n",
    "        im = skimage.img_as_ubyte(image)\n",
    "        io.imsave(\"aa.png\", im)"
   ]
  }
 ],
 "metadata": {
  "kernelspec": {
   "display_name": "Python 2",
   "language": "python",
   "name": "python2"
  },
  "language_info": {
   "codemirror_mode": {
    "name": "ipython",
    "version": 2
   },
   "file_extension": ".py",
   "mimetype": "text/x-python",
   "name": "python",
   "nbconvert_exporter": "python",
   "pygments_lexer": "ipython2",
   "version": "2.7.6"
  }
 },
 "nbformat": 4,
 "nbformat_minor": 0
}
